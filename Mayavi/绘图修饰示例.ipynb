{
 "cells": [
  {
   "cell_type": "code",
   "execution_count": null,
   "metadata": {},
   "outputs": [],
   "source": []
  },
  {
   "cell_type": "code",
   "execution_count": 16,
   "metadata": {},
   "outputs": [],
   "source": [
    "import numpy as np\n",
    "from numpy import pi, sin, cos, mgrid\n",
    "from mayavi import mlab\n",
    "# import moviepy.editor as mpy\n",
    "import random\n",
    "import time"
   ]
  },
  {
   "cell_type": "code",
   "execution_count": null,
   "metadata": {},
   "outputs": [],
   "source": []
  },
  {
   "cell_type": "code",
   "execution_count": 28,
   "metadata": {},
   "outputs": [],
   "source": [
    "# 生成坐标范围，点密度\n",
    "x, y = np.mgrid[-7.:7.05:0.1, -5.:5.05:0.05]\n",
    "\n",
    "# 决定取值\n",
    "def f(x, y):\n",
    "    return sin(x + y) + sin(2 * x - y) + cos(3 * x + 4 * y)\n",
    "#     return x**2+y**2\n",
    "\n",
    "\n",
    "s = mlab.surf(x, y, f, colormap='winter')\n",
    "# LUT = s.module_manager.scalar_lut_manager\n",
    "\n",
    "# rgba_array = LUT.lut.table.to_array()\n",
    "# print(type(LUT.lut.table))\n",
    "\n",
    "a.show_legend = True\n",
    "mlab.text(x=0.2, y=0.9, text='fuck you')\n",
    "mlab.show_pipeline()\n",
    "mlab.show()"
   ]
  },
  {
   "cell_type": "code",
   "execution_count": null,
   "metadata": {},
   "outputs": [],
   "source": []
  },
  {
   "cell_type": "code",
   "execution_count": null,
   "metadata": {},
   "outputs": [],
   "source": []
  }
 ],
 "metadata": {
  "kernelspec": {
   "display_name": "Python 3",
   "language": "python",
   "name": "python3"
  },
  "language_info": {
   "codemirror_mode": {
    "name": "ipython",
    "version": 3
   },
   "file_extension": ".py",
   "mimetype": "text/x-python",
   "name": "python",
   "nbconvert_exporter": "python",
   "pygments_lexer": "ipython3",
   "version": "3.6.6"
  }
 },
 "nbformat": 4,
 "nbformat_minor": 2
}
