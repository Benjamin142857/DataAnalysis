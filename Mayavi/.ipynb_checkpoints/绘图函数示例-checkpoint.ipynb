{
 "cells": [
  {
   "cell_type": "markdown",
   "metadata": {},
   "source": [
    "# 绘图函数示例\n",
    "> Author : Benjamin142857\n",
    ">\n",
    "> Date : 2019-08-26\n",
    ">\n",
    "> [TOC]\n",
    ">\n"
   ]
  },
  {
   "cell_type": "code",
   "execution_count": 1,
   "metadata": {},
   "outputs": [],
   "source": [
    "import numpy as np\n",
    "from numpy import pi, sin, cos, mgrid\n",
    "from mayavi import mlab\n",
    "# import moviepy.editor as mpy\n",
    "import random"
   ]
  },
  {
   "cell_type": "markdown",
   "metadata": {
    "heading_collapsed": true
   },
   "source": [
    "## 0. Demo\n",
    "官方示例"
   ]
  },
  {
   "cell_type": "code",
   "execution_count": null,
   "metadata": {
    "hidden": true
   },
   "outputs": [],
   "source": [
    "dphi, dtheta = pi / 250.0, pi / 250.0\n",
    "[phi, theta] = mgrid[0:pi + dphi * 1.5:dphi, 0:2 * pi + dtheta * 1.5:dtheta]\n",
    "m0 = 4\n",
    "m1 = 3\n",
    "m2 = 2\n",
    "m3 = 3\n",
    "m4 = 6\n",
    "m5 = 2\n",
    "m6 = 6\n",
    "m7 = 4\n",
    "r = sin(m0 * phi) ** m1 + cos(m2 * phi) ** m3 + sin(m4 * theta) ** m5 + cos(m6 * theta) ** m7\n",
    "x = r * sin(phi) * cos(theta)\n",
    "y = r * cos(phi)\n",
    "z = r * sin(phi) * sin(theta)\n",
    "\n",
    "# print(phi, theta)\n",
    "\n",
    "# View it.\n",
    "\n",
    "s = mlab.mesh(x, y, z, representation='wireframe', line_width='1')\n",
    "mlab.show()\n"
   ]
  },
  {
   "cell_type": "markdown",
   "metadata": {
    "hidden": true
   },
   "source": [
    "### Test_mesh"
   ]
  },
  {
   "cell_type": "code",
   "execution_count": 47,
   "metadata": {
    "hidden": true
   },
   "outputs": [
    {
     "name": "stdout",
     "output_type": "stream",
     "text": [
      "\n",
      "\n",
      "scene__________________________________________________\n",
      "<mayavi.core.scene.Scene object at 0x000001C03D0E17D8>\n",
      "\n",
      "\n",
      "source____________________________________________________\n",
      "<mayavi.sources.vtk_data_source.VTKDataSource object at 0x000001C03CEA9990>\n",
      "[1.0, 1.0, -1.0, -1.0, 1.0, 1.0, 1.0, -1.0, -1.0, 1.0]\n"
     ]
    }
   ],
   "source": [
    "x = [[-1, 1, 1, -1, -1], [-1, 1, 1, -1, -1]]\n",
    "y = [[-1, -1, -1, -1, -1], [1, 1, 2, 2, 1]]\n",
    "z = [[1, 1, -1, -1, 1], [1, 1, -1, -1, 1]]\n",
    "s = mlab.mesh(x, y, z)\n",
    "a = mlab.gcf()\n",
    "\n",
    "# scene\n",
    "print('\\n\\nscene__________________________________________________')\n",
    "a.scene.background = (1, 0.5, 0.5)\n",
    "print(a)\n",
    "\n",
    "\n",
    "# source\n",
    "print('\\n\\nsource____________________________________________________')\n",
    "source_obj = a.children[0]\n",
    "print(source_obj)\n",
    "data_lst = list(source_obj.data.point_data.scalars)\n",
    "print(data_lst)\n",
    "\n",
    "\n",
    "# manage\n",
    "print('\\n\\nmanage___________________________________________________')\n",
    "manage_obj = source_obj.children[0]\n",
    "print(manage_obj)\n",
    "\n",
    "\n",
    "# colors\n",
    "print('\\n\\ncolors___________________________________________________')\n",
    "colors = manage_obj.children[0]\n",
    "print(colors)\n",
    "\n",
    "\n",
    "# colors.scalar_lut_manager.lut_mode='YlGn'\n",
    "# print(dir(colors.scalar_lut_manager))\n",
    "\n",
    "# legend = colors.scalar_lut_manager._get_show_legend\n",
    "# print(dir(legend))\n",
    "\n",
    "# legend\n",
    "\n",
    "mlab.show()"
   ]
  },
  {
   "cell_type": "code",
   "execution_count": 3,
   "metadata": {
    "hidden": true
   },
   "outputs": [],
   "source": [
    "# x = [[0, 1], [0, 1], [0, 1, 0, 1]]\n",
    "# y = [[0, 0], [1, 2], [0, 0, 1, 2]]\n",
    "# z = [[0, 0], [0, 0], [1, 1, 1, 1]]\n",
    "# s = mlab.mesh(x, y, z)\n",
    "# mlab.show()"
   ]
  },
  {
   "cell_type": "markdown",
   "metadata": {
    "heading_collapsed": true
   },
   "source": [
    "## 1. 0D or 1D\n",
    "一维数据绘图: x, y, z 为一维列表\n",
    "* mlab.points3d()\n",
    "* mlab.plot3d()"
   ]
  },
  {
   "cell_type": "markdown",
   "metadata": {
    "heading_collapsed": true,
    "hidden": true
   },
   "source": [
    "### 1.1 Test_points3d\n",
    "绘制三维散点图"
   ]
  },
  {
   "cell_type": "code",
   "execution_count": 84,
   "metadata": {
    "hidden": true
   },
   "outputs": [],
   "source": [
    "t = np.linspace(0, 4*pi, 20)\n",
    "x = sin(2*t)\n",
    "y = cos(t)\n",
    "z = cos(2*t)\n",
    "s = 2 + sin(t)\n",
    "\n",
    "def f(x, y, z):\n",
    "    return 1+x\n",
    "\n",
    "\n",
    "param_dct = {\n",
    "#     'color': (0, 0.7, 0),\n",
    "    'line_width': 0.1,\n",
    "    'scale_factor': 0.25,\n",
    "    'scale_mode': 'vector',\n",
    "#     'extent': [0, 2, 0, 2, 0, 2],\n",
    "    'colormap': 'Reds',\n",
    "}\n",
    "\n",
    "mlab.points3d(x, y, z, s, **param_dct)\n",
    "mlab.show()"
   ]
  },
  {
   "cell_type": "markdown",
   "metadata": {
    "heading_collapsed": true,
    "hidden": true
   },
   "source": [
    "### 1.2 Test_plot3d\n",
    "绘制三维线图"
   ]
  },
  {
   "cell_type": "code",
   "execution_count": 4,
   "metadata": {
    "hidden": true
   },
   "outputs": [],
   "source": [
    "t = np.linspace(0, 2*pi, 50)\n",
    "r = 2*(1-sin(t))\n",
    "x = r*cos(t)\n",
    "y = r*sin(t)\n",
    "z = 0*t\n",
    "\n",
    "\n",
    "s = [1]*50\n",
    "\n",
    "def f(x, y, z):\n",
    "    return 0\n",
    "\n",
    "\n",
    "param_dct = {\n",
    "    'colormap': 'Spectral',\n",
    "    'tube_radius': 0.025,\n",
    "}\n",
    "\n",
    "mlab.plot3d(x, y, z, s, **param_dct)\n",
    "mlab.show()"
   ]
  },
  {
   "cell_type": "markdown",
   "metadata": {
    "heading_collapsed": true
   },
   "source": [
    "## 2. 2D\n",
    "二维数据绘图: x, y 为二维列表\n",
    "* mlab.imshow() : 绘制二维平面图形\n",
    "* mlab.surf() : 绘制三维平面图形\n",
    "* mlab.contour_surf() : 绘制三维等值线平面图形"
   ]
  },
  {
   "cell_type": "markdown",
   "metadata": {
    "heading_collapsed": true,
    "hidden": true
   },
   "source": [
    "### 2.1 Test_imshow\n",
    "绘制平面图像"
   ]
  },
  {
   "cell_type": "code",
   "execution_count": 13,
   "metadata": {
    "hidden": true
   },
   "outputs": [
    {
     "name": "stdout",
     "output_type": "stream",
     "text": [
      "[[0.55224298 0.3704715  0.73514216 0.15158795 0.32879095]\n",
      " [0.92986509 0.26618465 0.54937138 0.74026653 0.43600841]\n",
      " [0.44552528 0.45406547 0.01381978 0.80072917 0.38041678]\n",
      " [0.00783541 0.79653991 0.72058798 0.8825013  0.07463002]\n",
      " [0.5318169  0.02915051 0.44326763 0.63895511 0.94900517]]\n"
     ]
    }
   ],
   "source": [
    "s = np.random.random((5, 5))\n",
    "print(s)\n",
    "mlab.imshow(s, colormap='gist_earth', interpolate=False)\n",
    "mlab.show()"
   ]
  },
  {
   "cell_type": "markdown",
   "metadata": {
    "hidden": true
   },
   "source": [
    "### 2.2 Test_surf\n",
    "绘制三维平面图像"
   ]
  },
  {
   "cell_type": "markdown",
   "metadata": {
    "hidden": true
   },
   "source": [
    "#### 2.2.1 Demo"
   ]
  },
  {
   "cell_type": "code",
   "execution_count": 16,
   "metadata": {
    "hidden": true
   },
   "outputs": [
    {
     "name": "stdout",
     "output_type": "stream",
     "text": [
      "[[-7.  -7.  -7.  ... -7.  -7.  -7. ]\n",
      " [-6.9 -6.9 -6.9 ... -6.9 -6.9 -6.9]\n",
      " [-6.8 -6.8 -6.8 ... -6.8 -6.8 -6.8]\n",
      " ...\n",
      " [ 6.8  6.8  6.8 ...  6.8  6.8  6.8]\n",
      " [ 6.9  6.9  6.9 ...  6.9  6.9  6.9]\n",
      " [ 7.   7.   7.  ...  7.   7.   7. ]]\n",
      "[[-5.   -4.95 -4.9  ...  4.9   4.95  5.  ]\n",
      " [-5.   -4.95 -4.9  ...  4.9   4.95  5.  ]\n",
      " [-5.   -4.95 -4.9  ...  4.9   4.95  5.  ]\n",
      " ...\n",
      " [-5.   -4.95 -4.9  ...  4.9   4.95  5.  ]\n",
      " [-5.   -4.95 -4.9  ...  4.9   4.95  5.  ]\n",
      " [-5.   -4.95 -4.9  ...  4.9   4.95  5.  ]]\n",
      "(141, 201)\n",
      "(141, 201)\n"
     ]
    }
   ],
   "source": [
    "# 生成坐标范围，点密度\n",
    "x, y = np.mgrid[-7.:7.05:0.1, -5.:5.05:0.05]\n",
    "\n",
    "# 决定取值\n",
    "def f(x, y):\n",
    "    return sin(x + y) + sin(2 * x - y) + cos(3 * x + 4 * y)\n",
    "#     return x**2+y**2\n",
    "\n",
    "print(x)\n",
    "print(y)\n",
    "print(np.shape(x))\n",
    "print(np.shape(y))\n",
    "\n",
    "\n",
    "s = mlab.surf(x, y, f, colormap='winter')\n",
    "mlab.show()\n"
   ]
  },
  {
   "cell_type": "markdown",
   "metadata": {
    "heading_collapsed": true,
    "hidden": true
   },
   "source": [
    "#### 2.2.2 animate - test"
   ]
  },
  {
   "cell_type": "code",
   "execution_count": 3,
   "metadata": {
    "hidden": true
   },
   "outputs": [],
   "source": [
    "\n",
    "\n",
    "# 生成坐标范围，点密度\n",
    "x, y = np.mgrid[-7.:7.05:0.1, -5.:5.05:0.05]\n",
    "\n",
    "# 决定取值\n",
    "def f(d):\n",
    "    return (sin(x + y + d) + sin(2 * x - y) + cos(3 * x + 4 * y))*5\n",
    "\n",
    "\n",
    "\n",
    "@mlab.animate(delay=100) #默认500ms延时\n",
    "def anim2():\n",
    "    # init\n",
    "    x, y = np.mgrid[0:3:1,0:3:1]\n",
    "    s = mlab.surf(x, y, f(0))\n",
    "    fig = mlab.gcf()\n",
    "    ms = s.mlab_source\n",
    "    \n",
    "    # forloop\n",
    "    for i in range(300):\n",
    "        ms.reset(x=x, y=y, scalars=f(i))\n",
    "        fig.scene.reset_zoom()\n",
    "        yield\n",
    "        \n",
    "anim2()\n",
    "mlab.show()"
   ]
  },
  {
   "cell_type": "markdown",
   "metadata": {
    "heading_collapsed": true,
    "hidden": true
   },
   "source": [
    "#### 2.2.3 MoviePy - test failed"
   ]
  },
  {
   "cell_type": "code",
   "execution_count": 3,
   "metadata": {
    "hidden": true
   },
   "outputs": [
    {
     "ename": "TypeError",
     "evalue": "'nd_grid' object is not callable",
     "output_type": "error",
     "traceback": [
      "\u001b[1;31m---------------------------------------------------------------------------\u001b[0m",
      "\u001b[1;31mTypeError\u001b[0m                                 Traceback (most recent call last)",
      "\u001b[1;32m<ipython-input-3-757ef1c93a53>\u001b[0m in \u001b[0;36m<module>\u001b[1;34m()\u001b[0m\n\u001b[0;32m      5\u001b[0m \u001b[0mfig_myv\u001b[0m \u001b[1;33m=\u001b[0m \u001b[0mmlab\u001b[0m\u001b[1;33m.\u001b[0m\u001b[0mfigure\u001b[0m\u001b[1;33m(\u001b[0m\u001b[0msize\u001b[0m\u001b[1;33m=\u001b[0m\u001b[1;33m(\u001b[0m\u001b[1;36m220\u001b[0m\u001b[1;33m,\u001b[0m\u001b[1;36m220\u001b[0m\u001b[1;33m)\u001b[0m\u001b[1;33m,\u001b[0m \u001b[0mbgcolor\u001b[0m\u001b[1;33m=\u001b[0m\u001b[1;33m(\u001b[0m\u001b[1;36m1\u001b[0m\u001b[1;33m,\u001b[0m\u001b[1;36m1\u001b[0m\u001b[1;33m,\u001b[0m\u001b[1;36m1\u001b[0m\u001b[1;33m)\u001b[0m\u001b[1;33m)\u001b[0m\u001b[1;33m\u001b[0m\u001b[0m\n\u001b[0;32m      6\u001b[0m \u001b[0mX\u001b[0m\u001b[1;33m,\u001b[0m \u001b[0mY\u001b[0m \u001b[1;33m=\u001b[0m \u001b[0mnp\u001b[0m\u001b[1;33m.\u001b[0m\u001b[0mlinspace\u001b[0m\u001b[1;33m(\u001b[0m\u001b[1;33m-\u001b[0m\u001b[1;36m2\u001b[0m\u001b[1;33m,\u001b[0m\u001b[1;36m2\u001b[0m\u001b[1;33m,\u001b[0m\u001b[1;36m200\u001b[0m\u001b[1;33m)\u001b[0m\u001b[1;33m,\u001b[0m \u001b[0mnp\u001b[0m\u001b[1;33m.\u001b[0m\u001b[0mlinspace\u001b[0m\u001b[1;33m(\u001b[0m\u001b[1;33m-\u001b[0m\u001b[1;36m2\u001b[0m\u001b[1;33m,\u001b[0m\u001b[1;36m2\u001b[0m\u001b[1;33m,\u001b[0m\u001b[1;36m200\u001b[0m\u001b[1;33m)\u001b[0m\u001b[1;33m\u001b[0m\u001b[0m\n\u001b[1;32m----> 7\u001b[1;33m \u001b[0mXX\u001b[0m\u001b[1;33m,\u001b[0m \u001b[0mYY\u001b[0m \u001b[1;33m=\u001b[0m \u001b[0mnp\u001b[0m\u001b[1;33m.\u001b[0m\u001b[0mmgrid\u001b[0m\u001b[1;33m(\u001b[0m\u001b[0mX\u001b[0m\u001b[1;33m,\u001b[0m\u001b[0mY\u001b[0m\u001b[1;33m)\u001b[0m\u001b[1;33m\u001b[0m\u001b[0m\n\u001b[0m\u001b[0;32m      8\u001b[0m \u001b[0mZZ\u001b[0m \u001b[1;33m=\u001b[0m \u001b[1;32mlambda\u001b[0m \u001b[0md\u001b[0m\u001b[1;33m:\u001b[0m \u001b[0mnp\u001b[0m\u001b[1;33m.\u001b[0m\u001b[0msinc\u001b[0m\u001b[1;33m(\u001b[0m\u001b[0mXX\u001b[0m\u001b[1;33m**\u001b[0m\u001b[1;36m2\u001b[0m\u001b[1;33m+\u001b[0m\u001b[0mYY\u001b[0m\u001b[1;33m**\u001b[0m\u001b[1;36m2\u001b[0m\u001b[1;33m)\u001b[0m\u001b[1;33m+\u001b[0m\u001b[0mnp\u001b[0m\u001b[1;33m.\u001b[0m\u001b[0msin\u001b[0m\u001b[1;33m(\u001b[0m\u001b[0mXX\u001b[0m\u001b[1;33m+\u001b[0m\u001b[0md\u001b[0m\u001b[1;33m)\u001b[0m\u001b[1;33m\u001b[0m\u001b[0m\n\u001b[0;32m      9\u001b[0m \u001b[1;33m\u001b[0m\u001b[0m\n",
      "\u001b[1;31mTypeError\u001b[0m: 'nd_grid' object is not callable"
     ]
    }
   ],
   "source": [
    "duration= 2 # duration of the animation in seconds (it will loop)\n",
    "\n",
    "# 使用MAYAVI先创建一个图片\n",
    "\n",
    "fig_myv = mlab.figure(size=(220,220), bgcolor=(1,1,1))\n",
    "X, Y = np.linspace(-2,2,200), np.linspace(-2,2,200)\n",
    "XX, YY = np.meshgrid(X,Y)\n",
    "ZZ = lambda d: np.sinc(XX**2+YY**2)+np.sin(XX+d)\n",
    "\n",
    "# 使用MoviePy把这个图片创建为一个动画，并保存\n",
    "\n",
    "def make_frame(t):\n",
    "    mlab.clf() # clear the figure (to reset the colors)\n",
    "    mlab.mesh(YY,XX,ZZ(2*np.pi*t/duration), figure=fig_myv)\n",
    "    return mlab.screenshot(antialiased=True)\n",
    "\n",
    "animation = mpy.VideoClip(make_frame, duration=duration)\n",
    "animation.write_gif(\"sinc.gif\", fps=20)"
   ]
  },
  {
   "cell_type": "markdown",
   "metadata": {
    "heading_collapsed": true,
    "hidden": true
   },
   "source": [
    "### 2.3 Test_contour_surf\n",
    "绘制三维等值线平面图像"
   ]
  },
  {
   "cell_type": "code",
   "execution_count": 6,
   "metadata": {
    "hidden": true
   },
   "outputs": [],
   "source": [
    "def test_contour_surf():\n",
    "    \"\"\"Test contour_surf on regularly spaced co-ordinates like MayaVi.\"\"\"\n",
    "    def f(x, y):\n",
    "        return sin(x + y) + sin(2 * x - y) + cos(3 * x + 4 * y)\n",
    "\n",
    "    x, y = np.mgrid[-7.:7.05:0.1, -5.:5.05:0.05]\n",
    "    s = mlab.contour_surf(x, y, f, contours=[-2, -1, 0, 1, 2])\n",
    "    return s\n",
    "\n",
    "test_contour_surf()\n",
    "mlab.show()"
   ]
  },
  {
   "cell_type": "markdown",
   "metadata": {
    "heading_collapsed": true
   },
   "source": [
    "## 3. 3D\n",
    "三维数据绘图: x, y 为三维列表\n",
    "* mlab.contour3d() : 绘制三维体数据等值面\n",
    "* mlab.quiver3d() : 三维矢量场\n",
    "* mlab.flow() : 向量场的粒子轨迹"
   ]
  },
  {
   "cell_type": "markdown",
   "metadata": {
    "heading_collapsed": true,
    "hidden": true
   },
   "source": [
    "### 3.1 Test_contour3d"
   ]
  },
  {
   "cell_type": "code",
   "execution_count": 16,
   "metadata": {
    "hidden": true
   },
   "outputs": [
    {
     "name": "stdout",
     "output_type": "stream",
     "text": [
      "(64, 1, 1)\n"
     ]
    }
   ],
   "source": [
    "def test_contour3d():\n",
    "    x, y, z = np.ogrid[-5:5:64j, -5:5:64j, -5:5:64j]\n",
    "#     print(x)\n",
    "    print(np.shape(x))\n",
    "    scalars = x * x * 0.5 + y * y + z * z * 2.0\n",
    "\n",
    "    obj = mlab.contour3d(scalars, contours=8, transparent=True)\n",
    "    return obj\n",
    "\n",
    "test_contour3d()\n",
    "mlab.show()"
   ]
  },
  {
   "cell_type": "markdown",
   "metadata": {
    "heading_collapsed": true,
    "hidden": true
   },
   "source": [
    "### 3.2 Test_quiver3d"
   ]
  },
  {
   "cell_type": "code",
   "execution_count": 4,
   "metadata": {
    "hidden": true
   },
   "outputs": [
    {
     "name": "stdout",
     "output_type": "stream",
     "text": [
      "(10, 10, 10)\n",
      "[[[-5 -5 -5 -5 -5 -5 -5 -5 -5 -5]\n",
      "  [-5 -5 -5 -5 -5 -5 -5 -5 -5 -5]\n",
      "  [-5 -5 -5 -5 -5 -5 -5 -5 -5 -5]\n",
      "  [-5 -5 -5 -5 -5 -5 -5 -5 -5 -5]\n",
      "  [-5 -5 -5 -5 -5 -5 -5 -5 -5 -5]\n",
      "  [-5 -5 -5 -5 -5 -5 -5 -5 -5 -5]\n",
      "  [-5 -5 -5 -5 -5 -5 -5 -5 -5 -5]\n",
      "  [-5 -5 -5 -5 -5 -5 -5 -5 -5 -5]\n",
      "  [-5 -5 -5 -5 -5 -5 -5 -5 -5 -5]\n",
      "  [-5 -5 -5 -5 -5 -5 -5 -5 -5 -5]]\n",
      "\n",
      " [[-4 -4 -4 -4 -4 -4 -4 -4 -4 -4]\n",
      "  [-4 -4 -4 -4 -4 -4 -4 -4 -4 -4]\n",
      "  [-4 -4 -4 -4 -4 -4 -4 -4 -4 -4]\n",
      "  [-4 -4 -4 -4 -4 -4 -4 -4 -4 -4]\n",
      "  [-4 -4 -4 -4 -4 -4 -4 -4 -4 -4]\n",
      "  [-4 -4 -4 -4 -4 -4 -4 -4 -4 -4]\n",
      "  [-4 -4 -4 -4 -4 -4 -4 -4 -4 -4]\n",
      "  [-4 -4 -4 -4 -4 -4 -4 -4 -4 -4]\n",
      "  [-4 -4 -4 -4 -4 -4 -4 -4 -4 -4]\n",
      "  [-4 -4 -4 -4 -4 -4 -4 -4 -4 -4]]\n",
      "\n",
      " [[-3 -3 -3 -3 -3 -3 -3 -3 -3 -3]\n",
      "  [-3 -3 -3 -3 -3 -3 -3 -3 -3 -3]\n",
      "  [-3 -3 -3 -3 -3 -3 -3 -3 -3 -3]\n",
      "  [-3 -3 -3 -3 -3 -3 -3 -3 -3 -3]\n",
      "  [-3 -3 -3 -3 -3 -3 -3 -3 -3 -3]\n",
      "  [-3 -3 -3 -3 -3 -3 -3 -3 -3 -3]\n",
      "  [-3 -3 -3 -3 -3 -3 -3 -3 -3 -3]\n",
      "  [-3 -3 -3 -3 -3 -3 -3 -3 -3 -3]\n",
      "  [-3 -3 -3 -3 -3 -3 -3 -3 -3 -3]\n",
      "  [-3 -3 -3 -3 -3 -3 -3 -3 -3 -3]]\n",
      "\n",
      " [[-2 -2 -2 -2 -2 -2 -2 -2 -2 -2]\n",
      "  [-2 -2 -2 -2 -2 -2 -2 -2 -2 -2]\n",
      "  [-2 -2 -2 -2 -2 -2 -2 -2 -2 -2]\n",
      "  [-2 -2 -2 -2 -2 -2 -2 -2 -2 -2]\n",
      "  [-2 -2 -2 -2 -2 -2 -2 -2 -2 -2]\n",
      "  [-2 -2 -2 -2 -2 -2 -2 -2 -2 -2]\n",
      "  [-2 -2 -2 -2 -2 -2 -2 -2 -2 -2]\n",
      "  [-2 -2 -2 -2 -2 -2 -2 -2 -2 -2]\n",
      "  [-2 -2 -2 -2 -2 -2 -2 -2 -2 -2]\n",
      "  [-2 -2 -2 -2 -2 -2 -2 -2 -2 -2]]\n",
      "\n",
      " [[-1 -1 -1 -1 -1 -1 -1 -1 -1 -1]\n",
      "  [-1 -1 -1 -1 -1 -1 -1 -1 -1 -1]\n",
      "  [-1 -1 -1 -1 -1 -1 -1 -1 -1 -1]\n",
      "  [-1 -1 -1 -1 -1 -1 -1 -1 -1 -1]\n",
      "  [-1 -1 -1 -1 -1 -1 -1 -1 -1 -1]\n",
      "  [-1 -1 -1 -1 -1 -1 -1 -1 -1 -1]\n",
      "  [-1 -1 -1 -1 -1 -1 -1 -1 -1 -1]\n",
      "  [-1 -1 -1 -1 -1 -1 -1 -1 -1 -1]\n",
      "  [-1 -1 -1 -1 -1 -1 -1 -1 -1 -1]\n",
      "  [-1 -1 -1 -1 -1 -1 -1 -1 -1 -1]]\n",
      "\n",
      " [[ 0  0  0  0  0  0  0  0  0  0]\n",
      "  [ 0  0  0  0  0  0  0  0  0  0]\n",
      "  [ 0  0  0  0  0  0  0  0  0  0]\n",
      "  [ 0  0  0  0  0  0  0  0  0  0]\n",
      "  [ 0  0  0  0  0  0  0  0  0  0]\n",
      "  [ 0  0  0  0  0  0  0  0  0  0]\n",
      "  [ 0  0  0  0  0  0  0  0  0  0]\n",
      "  [ 0  0  0  0  0  0  0  0  0  0]\n",
      "  [ 0  0  0  0  0  0  0  0  0  0]\n",
      "  [ 0  0  0  0  0  0  0  0  0  0]]\n",
      "\n",
      " [[ 1  1  1  1  1  1  1  1  1  1]\n",
      "  [ 1  1  1  1  1  1  1  1  1  1]\n",
      "  [ 1  1  1  1  1  1  1  1  1  1]\n",
      "  [ 1  1  1  1  1  1  1  1  1  1]\n",
      "  [ 1  1  1  1  1  1  1  1  1  1]\n",
      "  [ 1  1  1  1  1  1  1  1  1  1]\n",
      "  [ 1  1  1  1  1  1  1  1  1  1]\n",
      "  [ 1  1  1  1  1  1  1  1  1  1]\n",
      "  [ 1  1  1  1  1  1  1  1  1  1]\n",
      "  [ 1  1  1  1  1  1  1  1  1  1]]\n",
      "\n",
      " [[ 2  2  2  2  2  2  2  2  2  2]\n",
      "  [ 2  2  2  2  2  2  2  2  2  2]\n",
      "  [ 2  2  2  2  2  2  2  2  2  2]\n",
      "  [ 2  2  2  2  2  2  2  2  2  2]\n",
      "  [ 2  2  2  2  2  2  2  2  2  2]\n",
      "  [ 2  2  2  2  2  2  2  2  2  2]\n",
      "  [ 2  2  2  2  2  2  2  2  2  2]\n",
      "  [ 2  2  2  2  2  2  2  2  2  2]\n",
      "  [ 2  2  2  2  2  2  2  2  2  2]\n",
      "  [ 2  2  2  2  2  2  2  2  2  2]]\n",
      "\n",
      " [[ 3  3  3  3  3  3  3  3  3  3]\n",
      "  [ 3  3  3  3  3  3  3  3  3  3]\n",
      "  [ 3  3  3  3  3  3  3  3  3  3]\n",
      "  [ 3  3  3  3  3  3  3  3  3  3]\n",
      "  [ 3  3  3  3  3  3  3  3  3  3]\n",
      "  [ 3  3  3  3  3  3  3  3  3  3]\n",
      "  [ 3  3  3  3  3  3  3  3  3  3]\n",
      "  [ 3  3  3  3  3  3  3  3  3  3]\n",
      "  [ 3  3  3  3  3  3  3  3  3  3]\n",
      "  [ 3  3  3  3  3  3  3  3  3  3]]\n",
      "\n",
      " [[ 4  4  4  4  4  4  4  4  4  4]\n",
      "  [ 4  4  4  4  4  4  4  4  4  4]\n",
      "  [ 4  4  4  4  4  4  4  4  4  4]\n",
      "  [ 4  4  4  4  4  4  4  4  4  4]\n",
      "  [ 4  4  4  4  4  4  4  4  4  4]\n",
      "  [ 4  4  4  4  4  4  4  4  4  4]\n",
      "  [ 4  4  4  4  4  4  4  4  4  4]\n",
      "  [ 4  4  4  4  4  4  4  4  4  4]\n",
      "  [ 4  4  4  4  4  4  4  4  4  4]\n",
      "  [ 4  4  4  4  4  4  4  4  4  4]]]\n"
     ]
    }
   ],
   "source": [
    "def test_quiver3d():\n",
    "    x, y, z = np.mgrid[-5:5, -5:5, -5:5]\n",
    "    print(np.shape(x))\n",
    "    print(x)\n",
    "    r = np.sqrt(x ** 2 + y ** 2 + z ** 4)\n",
    "    u = y * np.sin(r) / (r + 0.001)\n",
    "    v = -x * np.sin(r) / (r + 0.001)\n",
    "    w = np.zeros_like(z)\n",
    "    obj = mlab.quiver3d(x, y, z, u, v, w, line_width=3, scale_factor=1, transparent=True)\n",
    "    return obj\n",
    "\n",
    "test_quiver3d()\n",
    "mlab.show()"
   ]
  },
  {
   "cell_type": "code",
   "execution_count": 5,
   "metadata": {
    "hidden": true
   },
   "outputs": [
    {
     "ename": "TypeError",
     "evalue": "figure() got an unexpected keyword argument 'legend'",
     "output_type": "error",
     "traceback": [
      "\u001b[1;31m---------------------------------------------------------------------------\u001b[0m",
      "\u001b[1;31mTypeError\u001b[0m                                 Traceback (most recent call last)",
      "\u001b[1;32m<ipython-input-5-695da26a27cc>\u001b[0m in \u001b[0;36m<module>\u001b[1;34m()\u001b[0m\n\u001b[0;32m     10\u001b[0m     \u001b[1;32mreturn\u001b[0m \u001b[0mobj\u001b[0m\u001b[1;33m\u001b[0m\u001b[0m\n\u001b[0;32m     11\u001b[0m \u001b[1;33m\u001b[0m\u001b[0m\n\u001b[1;32m---> 12\u001b[1;33m \u001b[0mmlab\u001b[0m\u001b[1;33m.\u001b[0m\u001b[0mfigure\u001b[0m\u001b[1;33m(\u001b[0m\u001b[0mlegend\u001b[0m\u001b[1;33m=\u001b[0m\u001b[1;32mTrue\u001b[0m\u001b[1;33m)\u001b[0m\u001b[1;33m\u001b[0m\u001b[0m\n\u001b[0m\u001b[0;32m     13\u001b[0m \u001b[0mtest_quiver3d_2\u001b[0m\u001b[1;33m(\u001b[0m\u001b[1;33m)\u001b[0m\u001b[1;33m\u001b[0m\u001b[0m\n\u001b[0;32m     14\u001b[0m \u001b[0mmlab\u001b[0m\u001b[1;33m.\u001b[0m\u001b[0mshow\u001b[0m\u001b[1;33m(\u001b[0m\u001b[1;33m)\u001b[0m\u001b[1;33m\u001b[0m\u001b[0m\n",
      "\u001b[1;31mTypeError\u001b[0m: figure() got an unexpected keyword argument 'legend'"
     ]
    }
   ],
   "source": [
    "def test_quiver3d_2():\n",
    "    x, y, z = np.mgrid[-3:3, -3:3, -3:3]\n",
    "    print(np.shape(x))\n",
    "    print(x)\n",
    "    r = np.sqrt(x ** 2 + y ** 2 + z ** 4)\n",
    "    u = x\n",
    "    v = y\n",
    "    w = z\n",
    "    obj = mlab.quiver3d(x, y, z, u, v, w, line_width=3, scale_factor=1, transparent=True)\n",
    "    return obj\n",
    "\n",
    "mlab.figure(legend=True)\n",
    "test_quiver3d_2()\n",
    "mlab.show()"
   ]
  },
  {
   "cell_type": "markdown",
   "metadata": {
    "hidden": true
   },
   "source": [
    "### 3.3 Test_flow"
   ]
  },
  {
   "cell_type": "code",
   "execution_count": 3,
   "metadata": {
    "hidden": true
   },
   "outputs": [],
   "source": [
    "def test_flow():\n",
    "    x, y, z = np.mgrid[-4:4:40j, -4:4:40j, 0:4:20j]\n",
    "    r = np.sqrt(x ** 2 + y ** 2 + z ** 2 + 0.1)\n",
    "    u = y * np.sin(r) / r\n",
    "    v = -x * np.sin(r) / r\n",
    "    w = np.ones_like(z)*0.05\n",
    "    obj = mlab.flow(u, v, w)\n",
    "    return obj\n",
    "\n",
    "test_flow()\n",
    "mlab.show()"
   ]
  },
  {
   "cell_type": "code",
   "execution_count": null,
   "metadata": {
    "hidden": true
   },
   "outputs": [],
   "source": []
  },
  {
   "cell_type": "code",
   "execution_count": null,
   "metadata": {
    "hidden": true
   },
   "outputs": [],
   "source": []
  }
 ],
 "metadata": {
  "kernelspec": {
   "display_name": "Python 3",
   "language": "python",
   "name": "python3"
  },
  "language_info": {
   "codemirror_mode": {
    "name": "ipython",
    "version": 3
   },
   "file_extension": ".py",
   "mimetype": "text/x-python",
   "name": "python",
   "nbconvert_exporter": "python",
   "pygments_lexer": "ipython3",
   "version": "3.6.6"
  }
 },
 "nbformat": 4,
 "nbformat_minor": 2
}
